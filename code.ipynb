{
 "cells": [
  {
   "cell_type": "markdown",
   "metadata": {},
   "source": [
    "# Nanodegree Engenheiro de Machine Learning\n",
    "## Projeto final\n",
    "Marco Aurélio Moura Suriani<br>\n",
    "23 de abril de 2019\n",
    "***\n",
    "# Previsão da necessidade de reforço escolar para alunos de matemática de acordo com características demogaficas, sociais e acadêmicas"
   ]
  },
  {
   "cell_type": "code",
   "execution_count": 1,
   "metadata": {},
   "outputs": [],
   "source": [
    "# Importando funções e bibliotecas\n",
    "import pandas as pd\n",
    "import numpy as np\n",
    "import matplotlib.pyplot as plt\n",
    "\n",
    "import copy\n",
    "from time import time\n",
    "\n",
    "from sklearn.linear_model import LinearRegression, LogisticRegression\n",
    "from sklearn.svm import SVC\n",
    "from sklearn.naive_bayes import GaussianNB\n",
    "from sklearn.neighbors import KNeighborsClassifier\n",
    "from sklearn.ensemble import AdaBoostClassifier\n",
    "from sklearn.tree import DecisionTreeClassifier, DecisionTreeRegressor\n",
    "\n",
    "from sklearn.model_selection import train_test_split\n",
    "from sklearn.metrics import confusion_matrix, accuracy_score, precision_recall_fscore_support\n",
    "\n",
    "class formating:\n",
    "    bold = '\\x1b[1m'\n",
    "    resetbold = '\\x1b[21m'\n",
    "\n",
    "%matplotlib inline"
   ]
  },
  {
   "cell_type": "markdown",
   "metadata": {},
   "source": [
    "O pacote de dados (_dataset_) pode ser encontrado na internet em link fornecido no README."
   ]
  },
  {
   "cell_type": "code",
   "execution_count": 2,
   "metadata": {},
   "outputs": [],
   "source": [
    "# Leitura do arquivo .csv com o dataset\n",
    "mat_student_data = pd.read_csv('student-mat.csv', delimiter=';')"
   ]
  },
  {
   "cell_type": "markdown",
   "metadata": {},
   "source": [
    "A seguir, uma breve visão geral sobre o _dataset_ e suas variáveis."
   ]
  },
  {
   "cell_type": "code",
   "execution_count": 3,
   "metadata": {},
   "outputs": [
    {
     "name": "stdout",
     "output_type": "stream",
     "text": [
      "  school sex  age address famsize Pstatus  Medu  Fedu     Mjob      Fjob\n",
      "0     GP   F   18       U     GT3       A     4     4  at_home   teacher\n",
      "1     GP   F   17       U     GT3       T     1     1  at_home     other\n",
      "2     GP   F   15       U     LE3       T     1     1  at_home     other\n",
      "3     GP   F   15       U     GT3       T     4     2   health  services\n",
      "4     GP   F   16       U     GT3       T     3     3    other     other  ... \n",
      "\n",
      "   reason guardian  traveltime  studytime  failures schoolsup famsup paid\n",
      "0  course   mother           2          2         0       yes     no   no\n",
      "1  course   father           1          2         0        no    yes   no\n",
      "2   other   mother           1          2         3       yes     no  yes\n",
      "3    home   mother           1          3         0        no    yes  yes\n",
      "4    home   father           1          2         0        no    yes  yes  ... \n",
      "\n",
      "  activities nursery higher internet romantic  famrel  freetime  goout\n",
      "0         no     yes    yes       no       no       4         3      4\n",
      "1         no      no    yes      yes       no       5         3      3\n",
      "2         no     yes    yes      yes       no       4         3      2\n",
      "3        yes     yes    yes      yes      yes       3         2      2\n",
      "4         no     yes    yes       no       no       4         3      2  ... \n",
      "\n",
      "   Dalc  Walc  health  absences  G1  G2  G3\n",
      "0     1     1       3         6   5   6   6\n",
      "1     1     1       3         4   5   5   6\n",
      "2     2     3       3        10   7   8  10\n",
      "3     1     1       5         2  15  14  15\n",
      "4     1     2       5         4   6  10  10\n"
     ]
    }
   ],
   "source": [
    "# Observação das 5 primeiras instâncias do dataset\n",
    "print(mat_student_data.iloc[:,0:10].head(), end='')\n",
    "print('  ... \\n')\n",
    "print(mat_student_data.iloc[:,10:18].head(), end='')\n",
    "print('  ... \\n')\n",
    "print(mat_student_data.iloc[:,18:26].head(), end='')\n",
    "print('  ... \\n')\n",
    "print(mat_student_data.iloc[:,26:34].head())"
   ]
  },
  {
   "cell_type": "code",
   "execution_count": 4,
   "metadata": {},
   "outputs": [
    {
     "name": "stdout",
     "output_type": "stream",
     "text": [
      "              age        Medu        Fedu  traveltime   studytime    failures  \\\n",
      "count  395.000000  395.000000  395.000000  395.000000  395.000000  395.000000   \n",
      "mean    16.696203    2.749367    2.521519    1.448101    2.035443    0.334177   \n",
      "std      1.276043    1.094735    1.088201    0.697505    0.839240    0.743651   \n",
      "min     15.000000    0.000000    0.000000    1.000000    1.000000    0.000000   \n",
      "25%     16.000000    2.000000    2.000000    1.000000    1.000000    0.000000   \n",
      "50%     17.000000    3.000000    2.000000    1.000000    2.000000    0.000000   \n",
      "75%     18.000000    4.000000    3.000000    2.000000    2.000000    0.000000   \n",
      "max     22.000000    4.000000    4.000000    4.000000    4.000000    3.000000   \n",
      "\n",
      "           famrel    freetime       goout        Dalc        Walc      health  \\\n",
      "count  395.000000  395.000000  395.000000  395.000000  395.000000  395.000000   \n",
      "mean     3.944304    3.235443    3.108861    1.481013    2.291139    3.554430   \n",
      "std      0.896659    0.998862    1.113278    0.890741    1.287897    1.390303   \n",
      "min      1.000000    1.000000    1.000000    1.000000    1.000000    1.000000   \n",
      "25%      4.000000    3.000000    2.000000    1.000000    1.000000    3.000000   \n",
      "50%      4.000000    3.000000    3.000000    1.000000    2.000000    4.000000   \n",
      "75%      5.000000    4.000000    4.000000    2.000000    3.000000    5.000000   \n",
      "max      5.000000    5.000000    5.000000    5.000000    5.000000    5.000000   \n",
      "\n",
      "         absences          G1          G2          G3  \n",
      "count  395.000000  395.000000  395.000000  395.000000  \n",
      "mean     5.708861   10.908861   10.713924   10.415190  \n",
      "std      8.003096    3.319195    3.761505    4.581443  \n",
      "min      0.000000    3.000000    0.000000    0.000000  \n",
      "25%      0.000000    8.000000    9.000000    8.000000  \n",
      "50%      4.000000   11.000000   11.000000   11.000000  \n",
      "75%      8.000000   13.000000   13.000000   14.000000  \n",
      "max     75.000000   19.000000   19.000000   20.000000  \n"
     ]
    }
   ],
   "source": [
    "# Descrição estatística das variáveis numéricas/categóricas ordinais\n",
    "print(mat_student_data.describe())"
   ]
  },
  {
   "cell_type": "code",
   "execution_count": 5,
   "metadata": {
    "scrolled": true
   },
   "outputs": [
    {
     "name": "stdout",
     "output_type": "stream",
     "text": [
      "<class 'pandas.core.frame.DataFrame'>\n",
      "RangeIndex: 395 entries, 0 to 394\n",
      "Data columns (total 15 columns):\n",
      "school        395 non-null object\n",
      "sex           395 non-null object\n",
      "age           395 non-null int64\n",
      "address       395 non-null object\n",
      "famsize       395 non-null object\n",
      "Pstatus       395 non-null object\n",
      "Medu          395 non-null int64\n",
      "Fedu          395 non-null int64\n",
      "Mjob          395 non-null object\n",
      "Fjob          395 non-null object\n",
      "reason        395 non-null object\n",
      "guardian      395 non-null object\n",
      "traveltime    395 non-null int64\n",
      "studytime     395 non-null int64\n",
      "failures      395 non-null int64\n",
      "dtypes: int64(6), object(9)\n",
      "memory usage: 46.4+ KB\n"
     ]
    }
   ],
   "source": [
    "# Informações sobre todas as variáveis: nomes, instâncias e tipo de dado - parte 1\n",
    "mat_student_data.iloc[:,:15].info()"
   ]
  },
  {
   "cell_type": "code",
   "execution_count": 6,
   "metadata": {},
   "outputs": [
    {
     "name": "stdout",
     "output_type": "stream",
     "text": [
      "<class 'pandas.core.frame.DataFrame'>\n",
      "RangeIndex: 395 entries, 0 to 394\n",
      "Data columns (total 18 columns):\n",
      "schoolsup     395 non-null object\n",
      "famsup        395 non-null object\n",
      "paid          395 non-null object\n",
      "activities    395 non-null object\n",
      "nursery       395 non-null object\n",
      "higher        395 non-null object\n",
      "internet      395 non-null object\n",
      "romantic      395 non-null object\n",
      "famrel        395 non-null int64\n",
      "freetime      395 non-null int64\n",
      "goout         395 non-null int64\n",
      "Dalc          395 non-null int64\n",
      "Walc          395 non-null int64\n",
      "health        395 non-null int64\n",
      "absences      395 non-null int64\n",
      "G1            395 non-null int64\n",
      "G2            395 non-null int64\n",
      "G3            395 non-null int64\n",
      "dtypes: int64(10), object(8)\n",
      "memory usage: 55.6+ KB\n"
     ]
    }
   ],
   "source": [
    "# Informações sobre todas as variáveis: nomes, instâncias e tipo de dado - parte 2\n",
    "mat_student_data.iloc[:,15:].info()"
   ]
  },
  {
   "cell_type": "markdown",
   "metadata": {},
   "source": [
    "Das 33 variáveis, pode-se observar que:\n",
    "* 6 são numéricas discretas;\n",
    "* 10 são categóricas ordinais (é importante ressaltar que tais variáveis são categóricas pois expressam avaliações pessoais, ao invés de intensidades; entretanto, por serem ordinais, elas podem ser expressas através de números discretos; no caso deste dataset, todas elas vieram expressas como números, poupando trabalho de pré-processamento de dados);\n",
    "* 4 são categóricas nominais (por não haver hierarquia entre as categorias, não podem ser expressas através de números discretos; a solução mais comum é usar o método _one-hot encondig_);\n",
    "* 13 são categóricas binárias (que podem ser expressas através de 0/1).\n",
    "\n",
    "Em termos de entradas/saídas, pode-se observar que existem:\n",
    "* 29 são variáveis de entrada (que podem ser conhecidas no início do ano);\n",
    "* 4 são variáveis de saída (que só podem ser conhecidas no decorrer ou no fim do ano; as notas G1 e G2, em tese, podem funcionar como entradas, desde que se considere que o modelo será usado após G2. as faltas (_absences_) só podem aser conhecidas no fim do ano, e não podem aser usadas como entrada em nenhuma hipótese)."
   ]
  },
  {
   "cell_type": "code",
   "execution_count": 7,
   "metadata": {},
   "outputs": [],
   "source": [
    "# Lista de variáveis segundo seu tipo\n",
    "var_num_disc = ['age', 'failures', 'absences', 'G1', 'G2', 'G3']\n",
    "var_cat_ordn = ['Medu', 'Fedu', 'traveltime', 'studytime', 'famrel', 'freetime', 'goout', 'Dalc', \n",
    "                'Walc', 'health']\n",
    "var_cat_nmnl = ['Mjob', 'Fjob', 'reason', 'guardian']\n",
    "var_cat_bnry = ['school', 'sex', 'address', 'famsize', 'Pstatus', 'schoolsup', 'famsup', 'paid', \n",
    "                'activities', 'nursery', 'higher', 'internet', 'romantic']\n",
    "\n",
    "var_input = ['age', 'failures', 'Medu', 'Fedu', 'traveltime', 'studytime', 'famrel', 'freetime', \n",
    "             'goout', 'Dalc', 'Walc', 'health', 'Mjob', 'Fjob', 'reason', 'guardian', 'school', \n",
    "             'sex', 'address', 'famsize', 'Pstatus', 'schoolsup', 'famsup', 'paid', 'activities', \n",
    "             'nursery', 'higher', 'internet', 'romantic']\n",
    "var_output = ['absences', 'G1', 'G2', 'G3']"
   ]
  },
  {
   "cell_type": "markdown",
   "metadata": {},
   "source": [
    "****\n",
    "### Etapa 1: Pré-processamento de dados\n",
    "A etapa de pré-processamento contém os seguintes passos:\n",
    "* Criar uma cópia do dataset original que possa ser alterada livremente;\n",
    "* Alterar a escala [(Rescale data)](https://www.geeksforgeeks.org/data-preprocessing-machine-learning-python/) das variáveias numéricas de entrada e das variáveis categóricas ordinais (que já estão expressas através de números discretos) para a escala \\[0, 1\\]. Desta forma, o menor valor de cada variável se torna 0, o maior se torna 1, e os demais valores são calculados proporcionalmente;\n",
    "* Converter em números binários [(Binarize data)](https://www.geeksforgeeks.org/data-preprocessing-machine-learning-python/) as variáveis categóricas binárias. Uma das categorias será 0 e a outra será 1. Tal escolha é arbitrária e não influencia o resultado final;\n",
    "* Codificar através do método one-hot [(One-hot encoding)](https://www.kaggle.com/dansbecker/using-categorical-data-with-one-hot-encoding) as variáveis categóricas nominais. Tal método cria variáveis _dummy_ do tipo binárias para cada categoria da variável original. Em seguida, as variáveis originais são apagadas.\n",
    "\n",
    "Em seguida, são criadas as variáveis de atributos (_features_) e de alvos (_targets_):\n",
    "* ___Atributos (X):___ Variáveis pré-processadas de entrada (excluem-se as saídas 'absences' e as notas 'G1 a 'G3');\n",
    "* ___Alvo numérico (Y):___ Variável de saída (nota G3) expressa numericamente;\n",
    "* ___Alvo binário (Yb):___ Variável de saída transformada em binário:\n",
    "    * __0:__ Aluno não precisa de reforço (nota G3 >= 10)\n",
    "    * __1:__ Aluno __precisa__ de reforço (nota G3 < 10)"
   ]
  },
  {
   "cell_type": "code",
   "execution_count": 8,
   "metadata": {},
   "outputs": [],
   "source": [
    "mydataset1 = copy.copy(mat_student_data)\n",
    "\n",
    "# Variáveis numéricas e categóricas ordinárias de entrada (Rescale data) \n",
    "for var in var_num_disc+var_cat_ordn:\n",
    "    if var in var_input:\n",
    "            vmin = np.min(mydataset1[[var]])\n",
    "            d = np.max(mydataset1[[var]]) - vmin\n",
    "            mydataset1[[var]] = (mydataset1[[var]] - vmin) / d\n",
    "\n",
    "# Variáveis Binárias de entrada (Binarize data)\n",
    "mydataset1.school = mydataset1.school.apply(lambda x: 1 if x == 'GP' else 0)\n",
    "mydataset1.sex = mydataset1.sex.apply(lambda x: 1 if x == 'M' else 0)\n",
    "mydataset1.address = mydataset1.address.apply(lambda x: 1 if x == 'U' else 0)\n",
    "mydataset1.famsize = mydataset1.famsize.apply(lambda x: 1 if x == 'GT3' else 0)\n",
    "mydataset1.Pstatus = mydataset1.Pstatus.apply(lambda x: 1 if x == 'A' else 0)\n",
    "mydataset1.schoolsup = mydataset1.schoolsup.apply(lambda x: 1 if x == 'yes' else 0)\n",
    "mydataset1.famsup = mydataset1.famsup.apply(lambda x: 1 if x == 'yes' else 0)\n",
    "mydataset1.paid = mydataset1.paid.apply(lambda x: 1 if x == 'yes' else 0)\n",
    "mydataset1.activities = mydataset1.activities.apply(lambda x: 1 if x == 'yes' else 0)\n",
    "mydataset1.nursery = mydataset1.nursery.apply(lambda x: 1 if x == 'yes' else 0)\n",
    "mydataset1.higher = mydataset1.higher.apply(lambda x: 1 if x == 'yes' else 0)\n",
    "mydataset1.internet = mydataset1.internet.apply(lambda x: 1 if x == 'yes' else 0)\n",
    "mydataset1.romantic = mydataset1.romantic.apply(lambda x: 1 if x == 'yes' else 0)\n",
    "\n",
    "# Variáveis Nominais (One-hot encoding) \n",
    "dfDummies = pd.get_dummies(mydataset1['Mjob'], prefix='Mjob')\n",
    "mydataset1 = pd.concat([mydataset1, dfDummies], axis=1)\n",
    "\n",
    "dfDummies = pd.get_dummies(mydataset1['Fjob'], prefix='Fjob')\n",
    "mydataset1 = pd.concat([mydataset1, dfDummies], axis=1)\n",
    "\n",
    "dfDummies = pd.get_dummies(mydataset1['reason'], prefix='reason')\n",
    "mydataset1 = pd.concat([mydataset1, dfDummies], axis=1)\n",
    "\n",
    "dfDummies = pd.get_dummies(mydataset1['guardian'], prefix='guardian')\n",
    "mydataset1 = pd.concat([mydataset1, dfDummies], axis=1)\n",
    "\n",
    "mydataset1.drop(['Mjob', 'Fjob', 'reason', 'guardian'], 1, inplace=True)\n",
    "\n",
    "# Entradas e Saídas \n",
    "X = mydataset1.drop(var_output, 1)\n",
    "Y = mydataset1[['G3']]\n",
    "Yb = Y.G3.apply(lambda x: 0 if x>=10 else 1)"
   ]
  },
  {
   "cell_type": "code",
   "execution_count": 9,
   "metadata": {},
   "outputs": [
    {
     "name": "stdout",
     "output_type": "stream",
     "text": [
      "01) school               02) sex                  03) age                  04) address              \n",
      "05) famsize              06) Pstatus              07) Medu                 08) Fedu                 \n",
      "09) traveltime           10) studytime            11) failures             12) schoolsup            \n",
      "13) famsup               14) paid                 15) activities           16) nursery              \n",
      "17) higher               18) internet             19) romantic             20) famrel               \n",
      "21) freetime             22) goout                23) Dalc                 24) Walc                 \n",
      "25) health               26) Mjob_at_home         27) Mjob_health          28) Mjob_other           \n",
      "29) Mjob_services        30) Mjob_teacher         31) Fjob_at_home         32) Fjob_health          \n",
      "33) Fjob_other           34) Fjob_services        35) Fjob_teacher         36) reason_course        \n",
      "37) reason_home          38) reason_other         39) reason_reputation    40) guardian_father      \n",
      "41) guardian_mother      42) guardian_other       "
     ]
    }
   ],
   "source": [
    "# Lista com os atributos de X\n",
    "for i, x in enumerate(X.columns):\n",
    "    print('{:02d}) {:21s}'.format(i+1, x), end='')\n",
    "    if (i-3)%4 == 0: print('')"
   ]
  },
  {
   "cell_type": "markdown",
   "metadata": {},
   "source": [
    "****\n",
    "### Etapa 2: Análise da variável alvo\n",
    "A etapa de análise dos _targets_ contém os seguintes passos:\n",
    "* Tabelas de Distribuição de frequências das notas numéricas (alvo Y) e da necessidade de reforço segundo os resultados finais aprovado/reprovado (alvo Yb);\n",
    "* Respectivos histogramas das tabelas;\n",
    "* Análise dos resultados."
   ]
  },
  {
   "cell_type": "code",
   "execution_count": 10,
   "metadata": {},
   "outputs": [
    {
     "name": "stdout",
     "output_type": "stream",
     "text": [
      "Distribuição de Frequências (notas)\n",
      "    freq\n",
      "0     38\n",
      "1      0\n",
      "2      0\n",
      "3      0\n",
      "4      1\n",
      "5      7\n",
      "6     15\n",
      "7      9\n",
      "8     32\n",
      "9     28\n",
      "10    56\n",
      "11    47\n",
      "12    31\n",
      "13    31\n",
      "14    27\n",
      "15    33\n",
      "16    16\n",
      "17     6\n",
      "18    12\n",
      "19     5\n",
      "20     1\n",
      "\n",
      "Distribuição de Frequências (necessidade de reforço)\n",
      "   freq\n",
      "0   265\n",
      "1   130\n"
     ]
    }
   ],
   "source": [
    "# Constrói tabela de distribuição de frequência das notas dos alunos e imprime\n",
    "print('Distribuição de Frequências (notas)')\n",
    "distfreq_notas = pd.DataFrame(data=[np.sum(Y.G3==i) for i in range(21)], \n",
    "                              index=range(21), columns=['freq'])\n",
    "print(distfreq_notas)\n",
    "\n",
    "# Constrói tabela de distribuição de frequência do estado aprovado/reprovado dos alunos e imprime\n",
    "print('\\nDistribuição de Frequências (necessidade de reforço)')\n",
    "distfreq_reforce1 = pd.DataFrame(data=[np.sum(Yb==i) for i in range(2)], \n",
    "                                 index=range(2), columns=['freq'])\n",
    "print(distfreq_reforce1)"
   ]
  },
  {
   "cell_type": "code",
   "execution_count": 11,
   "metadata": {
    "scrolled": true
   },
   "outputs": [
    {
     "data": {
      "image/png": "[encoded data removed]",
      "text/plain": [
       "<Figure size 1224x288 with 2 Axes>"
      ]
     },
     "metadata": {},
     "output_type": "display_data"
    }
   ],
   "source": [
    "# Constrói os gráficos das tabelas de distribuição de frequência da célula anterior\n",
    "plt.figure()\n",
    "plt.subplot(1,2,1)\n",
    "fig = Y.G3.plot.hist(bins=range(22), edgecolor='k', grid=False, figsize=(17,4))\n",
    "fig.set_ylim(0,60)\n",
    "fig.set_yticks(np.arange(0, 65, 5))\n",
    "plt.grid(b=True, axis='y', color='k', linestyle='--', alpha=0.25)\n",
    "plt.xlabel('Notas')\n",
    "plt.ylabel('Frequências')\n",
    "plt.title('Desempenho (nota)')\n",
    "plt.xticks(np.arange(0.5, 21.5, 1), range(21))\n",
    "\n",
    "plt.subplot(1,2,2)\n",
    "fig = Yb.plot.hist(bins=2, edgecolor='k')\n",
    "fig.set_ylim(0,275)\n",
    "fig.set_yticks(np.arange(0, 300, 25))\n",
    "plt.grid(b=True, axis='y', color='k', linestyle='--', alpha=0.25)\n",
    "plt.xlabel('Resultados')\n",
    "plt.ylabel('Frequências')\n",
    "plt.title('Necessidade de reforço (aprovado/reprovado)')\n",
    "plt.xticks([0.25, 0.75], ['Sem Reforço/Aprovado (0)', 'Reforço/Reprovado (1)'])\n",
    "pass"
   ]
  },
  {
   "cell_type": "markdown",
   "metadata": {},
   "source": [
    "#### Conclusões sobre o alvo (Y):\n",
    "* Excluindo as notas 0, a distribuição de G3 é aproximadamente normal;\n",
    "* Observam-se muitas notas 0 (38 ocorrências, 3ª nota mais frequente), provavelmente desistentes - entretanto, não se sabem as causas das desistências: mudança de escola, mudança de cidade, desistência de ensino, problema de saúde, falecimento etc;\n",
    "* A nota mínima para aprovação (10) é a mais frequente (56 ocorrências), seguida pela nota 11 (47 ocorrências) - provavelmente muitos desses alunos foram \"empurrados\" pelo professor ou passaram no limite, sendo tais possibilidades possíveis de ser exploradas em outros trabalhos;\n",
    "* A quantidade de alunos aprovados é o dobro da quantidade de alunos reprovados - tal desbalanceamente torna a acurácia uma medida praticamente inútil, pois pode-se obter uma acurácia de 0.67 simplesmentae classificando todos os alunos como \"Não Reforço\"/Aprovados."
   ]
  },
  {
   "cell_type": "markdown",
   "metadata": {},
   "source": [
    "****\n",
    "### Etapa 3: Funções de suporte\n",
    "Codificação de funções que serão usadas ao longo do trabalho:\n",
    "\n",
    "#### Etapa 3a: Métricas\n",
    "Função __metricas_binario( y_test, y_pred, verbose )__:\n",
    "* Compara __y_test__ ao __y_pred__, determinando:\n",
    "    * Matriz de Confusão\n",
    "    * Acurácia\n",
    "    * Precisão, Revocação e $F_{\\beta}$-score com $\\beta$ = 0,5 (ou $F_{0,5}$)\n",
    "* Retorna vetor contendo:\n",
    "    * Acurácia\n",
    "    * $F_{0,5}$\n",
    "* Se __verbose__, então imprime os resultados obtidos.\n",
    "\n",
    "#### Etapa 3b: Pipeline\n",
    "Função __model_pipeline( X, y, model )__:\n",
    "* Recebe um dataset como entrada __(X, y)__ e o divide em subconjuntos de treino e de testes, com 20% para testes;\n",
    "* Recebe um objeto __model__ do modelo de previsão como entrada e usa seu método __.fit__ com o subconjunto de treino;\n",
    "* Usa o método __.predict__ do modelo para determinar os valores previstos de saída __(y_pred)__;\n",
    "* Chama a função __metricas_binario( )__ para avaliar as previsões y_pred em comparação ao alvo y_test, e retorna acurácia e F0,5-score"
   ]
  },
  {
   "cell_type": "code",
   "execution_count": 12,
   "metadata": {},
   "outputs": [],
   "source": [
    "#Funções de Suporte\n",
    "\n",
    "def metricas_binario(y_test, y_pred, verbose=True):\n",
    "    cm = confusion_matrix(y_test, y_pred)\n",
    "    acc = accuracy_score(y_test, y_pred)\n",
    "    scores = precision_recall_fscore_support(y_test, y_pred, beta=0.5, warn_for=())\n",
    "    \n",
    "    if verbose:\n",
    "        print('Matriz de Confusão\\n', cm[0], '\\n', cm[1], '\\n')\n",
    "    \n",
    "        print('Acurácia  = {:.3f}'.format(acc))\n",
    "        print('Precisão  = {:.3f}'.format(scores[0][1]))\n",
    "        print('Revocação = {:.3f}'.format(scores[1][1]))\n",
    "        print('F0,5 scr  = {:.3f}'.format(scores[2][1]))\n",
    "    \n",
    "    return [acc, scores[2][1]]\n",
    "\n",
    "def model_pipeline(X, Y, model, verbose=False):\n",
    "    X_train, X_test, y_train, y_test = train_test_split(X, Y, test_size=0.2)\n",
    "    model.fit(X_train, y_train)\n",
    "\n",
    "    y_pred = model.predict(X_test)\n",
    "\n",
    "    metricas = metricas_binario(y_test, y_pred, verbose)\n",
    "    \n",
    "    return metricas"
   ]
  },
  {
   "cell_type": "markdown",
   "metadata": {},
   "source": [
    "****\n",
    "### Etapa 4: Comparação acurácia e F0,5 para diferentes modelos de classificação\n",
    "Esta etapa tem como objetivo determinar e comparar a acurácia e o F0,5 de alguns modelos de classificação usando como alvo o desempenho final dos estudantaes (aprovado=0/reprovado=1). Os passos desta etapa são:\n",
    "* Criar um Data Frame chamado __metrics__ para armazenar as métricas (acurácia e F0,5-score) de cada técnica, bem como seu tempo médio para treino e previsão;\n",
    "* Aplicar diversos modelos e gravar seus resultados em __metrics__:\n",
    "    * Calcula a média da acurácia e do F0,5-score para 1000 previsões de cada técnica;\n",
    "    * Mede o tempo de treino e previsão;\n",
    "    * Grava e imprime as médias;\n",
    "    * Calcula um modelo usando __verbose__ para imprimir matriz de confusão, precisão e revocação, como exemplo (apenas para algumas das técnicas).\n",
    "* Exibir os resultados em uma tabela e em um gráfico;\n",
    "* Analisar os resultados e tirar conclusões."
   ]
  },
  {
   "cell_type": "code",
   "execution_count": 13,
   "metadata": {},
   "outputs": [],
   "source": [
    "# Data Frame para armazenar as métricas\n",
    "metrics = pd.DataFrame(columns = ['Acurácia', 'F0,5', 'Tempo'])"
   ]
  },
  {
   "cell_type": "markdown",
   "metadata": {},
   "source": [
    "#### Etapa 4a: Previsor ingênuo (prevê que todos serão aprovados)\n",
    "* Cria a classe __Previsor_ingenuo_aprova__ com os seguintes métodos:\n",
    "    * __fit(X, y):__ não faz nada (precisa existir por causa da função __model_pipeline( )__ );\n",
    "    * __predict(x):__ prevê 0 (aprovado, não precisa de reforço) para toda instância em x.\n",
    "* Mede acurácia e F0,5 para tal modelo."
   ]
  },
  {
   "cell_type": "code",
   "execution_count": 14,
   "metadata": {},
   "outputs": [],
   "source": [
    "# CLASSE Previsor Ingênuo (prevê apenas aprovados)\n",
    "class Previsor_ingenuo_aprova:\n",
    "    def fit(self, X, y):\n",
    "        pass\n",
    "        \n",
    "    def predict(self, X):\n",
    "        return pd.DataFrame([0 for x in range(X.shape[0])]).iloc[:,0]"
   ]
  },
  {
   "cell_type": "code",
   "execution_count": 15,
   "metadata": {},
   "outputs": [
    {
     "name": "stdout",
     "output_type": "stream",
     "text": [
      "\u001b[1mModelo: Previsor_ingenuo_aprova\u001b[21m\n",
      "Acurácia média = 0.673\n",
      "F0,5 scr médio = 0.000\n",
      "\u001b[1m\n",
      "Exemplo:\u001b[21m\n",
      "Matriz de Confusão\n",
      " [52  0] \n",
      " [27  0] \n",
      "\n",
      "Acurácia  = 0.658\n",
      "Precisão  = 0.000\n",
      "Revocação = 0.000\n",
      "F0,5 scr  = 0.000\n"
     ]
    }
   ],
   "source": [
    "# Cálculo e exibição das métricas para o modelo Previsor Ingênuo (prevê apenas aprovados)\n",
    "ac = 0\n",
    "f1 = 0\n",
    "\n",
    "# Cálculo das métricas\n",
    "n = 1000\n",
    "start = time()\n",
    "for i in range(n): \n",
    "    nvamodel = Previsor_ingenuo_aprova()\n",
    "    res = model_pipeline(X, Yb, nvamodel)\n",
    "    ac += res[0]\n",
    "    f1 += res[1]\n",
    "dt = time() - start\n",
    "\n",
    "# Média das métricas, grava no Data Frame metrics\n",
    "metrics.loc[nvamodel.__class__.__name__] = [round(ac/n, 3), round(f1/n, 3), round(dt/n, 3)]\n",
    "\n",
    "# Imprime as médias\n",
    "print(formating.bold + 'Modelo: ' + nvamodel.__class__.__name__ + formating.resetbold)\n",
    "print('Acurácia média = {:.3f}'.format(ac/n))\n",
    "print('F0,5 scr médio = {:.3f}'.format(f1/n))\n",
    "\n",
    "# Exibe um exemplo\n",
    "print(formating.bold + '\\nExemplo:' + formating.resetbold)\n",
    "nvamodel = Previsor_ingenuo_aprova()\n",
    "f1 = model_pipeline(X, Yb, nvamodel, True)"
   ]
  },
  {
   "cell_type": "markdown",
   "metadata": {},
   "source": [
    "#### Etapa 4b: Previsor ingênuo (prevê que todos serão reprovados)\n",
    "* Cria a classe __Previsor_ingenuo_reprova__ com os seguintes métodos:\n",
    "    * __fit(X, y):__ não faz nada (precisa existir por causa da função __model_pipeline( )__ );\n",
    "    * __predict(x):__ prevê 1 (reprovado, precisa de reforço) para toda instância em x.\n",
    "* Mede acurácia e F0,5 para tal modelo."
   ]
  },
  {
   "cell_type": "code",
   "execution_count": 16,
   "metadata": {},
   "outputs": [],
   "source": [
    "# CLASSE Previsor Ingênuo (prevê apenas reprovados)\n",
    "class Previsor_ingenuo_reprova:\n",
    "    def fit(self, X, y):\n",
    "        pass\n",
    "        \n",
    "    def predict(self, X):\n",
    "        return pd.DataFrame([1 for x in range(X.shape[0])]).iloc[:,0]"
   ]
  },
  {
   "cell_type": "code",
   "execution_count": 17,
   "metadata": {},
   "outputs": [
    {
     "name": "stdout",
     "output_type": "stream",
     "text": [
      "\u001b[1mModelo: Previsor_ingenuo_reprova\u001b[21m\n",
      "Acurácia média = 0.330\n",
      "F0,5 scr médio = 0.380\n",
      "\u001b[1m\n",
      "Exemplo:\u001b[21m\n",
      "Matriz de Confusão\n",
      " [ 0 54] \n",
      " [ 0 25] \n",
      "\n",
      "Acurácia  = 0.316\n",
      "Precisão  = 0.316\n",
      "Revocação = 1.000\n",
      "F0,5 scr  = 0.367\n"
     ]
    }
   ],
   "source": [
    "# Cálculo e exibição das métricas para o modelo Previsor Ingênuo (prevê apenas reprovados)\n",
    "ac = 0\n",
    "f1 = 0\n",
    "\n",
    "# Cálculo das métricas\n",
    "n = 1000\n",
    "start = time()\n",
    "for i in range(n): \n",
    "    nvrmodel = Previsor_ingenuo_reprova()\n",
    "    res = model_pipeline(X, Yb, nvrmodel)\n",
    "    ac += res[0]\n",
    "    f1 += res[1]\n",
    "dt = time() - start\n",
    "    \n",
    "# Média das métricas, grava no Data Frame metrics\n",
    "metrics.loc[nvrmodel.__class__.__name__] = [round(ac/n, 3), round(f1/n, 3), round(dt/n, 3)]\n",
    "\n",
    "# Imprime as médias\n",
    "print(formating.bold + 'Modelo: ' + nvrmodel.__class__.__name__ + formating.resetbold)\n",
    "print('Acurácia média = {:.3f}'.format(ac/n))\n",
    "print('F0,5 scr médio = {:.3f}'.format(f1/n))\n",
    "\n",
    "# Exibe um exemplo\n",
    "print(formating.bold +'\\nExemplo:' + formating.resetbold)\n",
    "nvrmodel = Previsor_ingenuo_reprova()\n",
    "f1 = model_pipeline(X, Yb, nvrmodel, True)"
   ]
  },
  {
   "cell_type": "markdown",
   "metadata": {},
   "source": [
    "#### Etapa 4c: Classificação via Regressão Logística\n",
    "* Utiliza a classe __LogisticRegression__ do _scikitlearn_ para classificação binária;\n",
    "* Mede acurácia e F0,5 para tal técnica."
   ]
  },
  {
   "cell_type": "code",
   "execution_count": 18,
   "metadata": {},
   "outputs": [
    {
     "name": "stdout",
     "output_type": "stream",
     "text": [
      "\u001b[1mModelo: LogisticRegression\u001b[21m\n",
      "Acurácia média = 0.684\n",
      "F0,5 scr médio = 0.460\n",
      "\u001b[1m\n",
      "Exemplo:\u001b[21m\n",
      "Matriz de Confusão\n",
      " [45  7] \n",
      " [21  6] \n",
      "\n",
      "Acurácia  = 0.646\n",
      "Precisão  = 0.462\n",
      "Revocação = 0.222\n",
      "F0,5 scr  = 0.380\n"
     ]
    }
   ],
   "source": [
    "# Cálculo e exibição das métricas para o modelo Regressão Logística\n",
    "ac = 0\n",
    "f1 = 0\n",
    "\n",
    "# Cálculo das métricas\n",
    "n = 1000\n",
    "start = time()\n",
    "for i in range(n): \n",
    "    logmodel = LogisticRegression()\n",
    "    res = model_pipeline(X, Yb, logmodel)\n",
    "    ac += res[0]\n",
    "    f1 += res[1]\n",
    "dt = time() - start\n",
    "\n",
    "# Média das métricas, grava no Data Frame metrics\n",
    "metrics.loc[logmodel.__class__.__name__] = [round(ac/n, 3), round(f1/n, 3), round(dt/n, 3)]\n",
    "\n",
    "# Imprime as médias\n",
    "print(formating.bold + 'Modelo: ' + logmodel.__class__.__name__ + formating.resetbold)\n",
    "print('Acurácia média = {:.3f}'.format(ac/n))\n",
    "print('F0,5 scr médio = {:.3f}'.format(f1/n))\n",
    "\n",
    "# Exibe um exemplo\n",
    "print(formating.bold + '\\nExemplo:' + formating.resetbold)\n",
    "logmodel = LogisticRegression()\n",
    "f1 = model_pipeline(X, Yb, logmodel, True)"
   ]
  },
  {
   "cell_type": "markdown",
   "metadata": {},
   "source": [
    "#### Etapa 4d: Classificação via k-Vizinhos Mais Próximos\n",
    "* Utiliza a classe __KNeighborsClassifier__ do _scikitlearn_ para classificação binária;\n",
    "* Mede acurácia e F0,5 para tal técnica."
   ]
  },
  {
   "cell_type": "code",
   "execution_count": 19,
   "metadata": {},
   "outputs": [
    {
     "name": "stdout",
     "output_type": "stream",
     "text": [
      "\u001b[1mModelo: KNeighborsClassifier\u001b[21m\n",
      "Acurácia média = 0.599\n",
      "F0,5 scr médio = 0.325\n",
      "\u001b[1m\n",
      "Exemplo:\u001b[21m\n",
      "Matriz de Confusão\n",
      " [43 12] \n",
      " [18  6] \n",
      "\n",
      "Acurácia  = 0.620\n",
      "Precisão  = 0.333\n",
      "Revocação = 0.250\n",
      "F0,5 scr  = 0.312\n"
     ]
    }
   ],
   "source": [
    "# Cálculo e exibição das métricas para o modelo kNN (k-Vizinhos Mais Próximos)\n",
    "ac = 0\n",
    "f1 = 0\n",
    "\n",
    "# Cálculo das métricas\n",
    "n = 1000\n",
    "start = time()\n",
    "for i in range(n): \n",
    "    knnmodel = KNeighborsClassifier(n_neighbors=3)\n",
    "    res = model_pipeline(X, Yb, knnmodel)\n",
    "    ac += res[0]\n",
    "    f1 += res[1]\n",
    "dt = time() - start\n",
    "\n",
    "# Média das métricas, grava no Data Frame metrics\n",
    "metrics.loc[knnmodel.__class__.__name__] = [round(ac/n, 3), round(f1/n, 3), round(dt/n, 3)]\n",
    "\n",
    "# Imprime as médias\n",
    "print(formating.bold + 'Modelo: ' + knnmodel.__class__.__name__ + formating.resetbold)\n",
    "print('Acurácia média = {:.3f}'.format(ac/n))\n",
    "print('F0,5 scr médio = {:.3f}'.format(f1/n))\n",
    "\n",
    "# Exibe um exemplo\n",
    "print(formating.bold + '\\nExemplo:' + formating.resetbold)\n",
    "knnmodel = KNeighborsClassifier(n_neighbors=3)\n",
    "f1 = model_pipeline(X, Yb, knnmodel, True)"
   ]
  },
  {
   "cell_type": "markdown",
   "metadata": {},
   "source": [
    "#### Etapa 4e: Classificação via Máquinas de Suporte de Vetores\n",
    "* Utiliza a classe __SVC__ do _scikitlearn_ para classificação binária;\n",
    "* Mede acurácia e F0,5 para tal técnica."
   ]
  },
  {
   "cell_type": "code",
   "execution_count": 20,
   "metadata": {},
   "outputs": [
    {
     "name": "stdout",
     "output_type": "stream",
     "text": [
      "\u001b[1mModelo: SVC\u001b[21m\n",
      "Acurácia média = 0.680\n",
      "F0,5 scr médio = 0.471\n",
      "\u001b[1m\n",
      "Exemplo:\u001b[21m\n",
      "Matriz de Confusão\n",
      " [49  8] \n",
      " [12 10] \n",
      "\n",
      "Acurácia  = 0.747\n",
      "Precisão  = 0.556\n",
      "Revocação = 0.455\n",
      "F0,5 scr  = 0.532\n"
     ]
    }
   ],
   "source": [
    "# Cálculo e exibição das métricas para o modelo SVC (Máquinas de Suporte de Vetores)\n",
    "ac = 0\n",
    "f1 = 0\n",
    "\n",
    "# Cálculo das métricas\n",
    "n = 1000\n",
    "start = time()\n",
    "for i in range(n): \n",
    "    svcmodel = SVC(kernel='linear', C=100)\n",
    "    res = model_pipeline(X, Yb, svcmodel)\n",
    "    ac += res[0]\n",
    "    f1 += res[1]\n",
    "dt = time() - start\n",
    "\n",
    "# Média das métricas, grava no Data Frame metrics\n",
    "metrics.loc[svcmodel.__class__.__name__] = [round(ac/n, 3), round(f1/n, 3), round(dt/n, 3)]\n",
    "\n",
    "# Imprime as médias\n",
    "print(formating.bold + 'Modelo: ' + svcmodel.__class__.__name__ + formating.resetbold)\n",
    "print('Acurácia média = {:.3f}'.format(ac/n))\n",
    "print('F0,5 scr médio = {:.3f}'.format(f1/n))\n",
    "\n",
    "# Exibe um exemplo\n",
    "print(formating.bold + '\\nExemplo:' + formating.resetbold)\n",
    "svcmodel = SVC(kernel='linear', C=100)\n",
    "f1 = model_pipeline(X, Yb, svcmodel, True)"
   ]
  },
  {
   "cell_type": "markdown",
   "metadata": {},
   "source": [
    "#### Etapa 4f: Classificação via Naïve Bayes Gaussiano\n",
    "* Utiliza a classe __GaussianNB__ do _scikitlearn_ para classificação binária;\n",
    "* Mede acurácia e F0,5 para tal técnica."
   ]
  },
  {
   "cell_type": "code",
   "execution_count": 21,
   "metadata": {},
   "outputs": [
    {
     "name": "stdout",
     "output_type": "stream",
     "text": [
      "\u001b[1mModelo: GaussianNB\u001b[21m\n",
      "Acurácia média = 0.659\n",
      "F0,5 scr médio = 0.459\n",
      "\u001b[1m\n",
      "Exemplo:\u001b[21m\n",
      "Matriz de Confusão\n",
      " [44 12] \n",
      " [16  7] \n",
      "\n",
      "Acurácia  = 0.646\n",
      "Precisão  = 0.368\n",
      "Revocação = 0.304\n",
      "F0,5 scr  = 0.354\n"
     ]
    }
   ],
   "source": [
    "# Cálculo e exibição das métricas para o modelo Naïve Bayes Gaussiano\n",
    "ac = 0\n",
    "f1 = 0\n",
    "\n",
    "# Cálculo das métricas\n",
    "n = 1000\n",
    "start = time()\n",
    "for i in range(n): \n",
    "    gnbmodel = GaussianNB()\n",
    "    res = model_pipeline(X, Yb, gnbmodel)\n",
    "    ac += res[0]\n",
    "    f1 += res[1]\n",
    "dt = time() - start\n",
    "\n",
    "# Média das métricas, grava no Data Frame metrics\n",
    "metrics.loc[gnbmodel.__class__.__name__] = [round(ac/n, 3), round(f1/n, 3), round(dt/n, 3)]\n",
    "\n",
    "# Imprime as médias\n",
    "print(formating.bold + 'Modelo: ' + gnbmodel.__class__.__name__ + formating.resetbold)\n",
    "print('Acurácia média = {:.3f}'.format(ac/n))\n",
    "print('F0,5 scr médio = {:.3f}'.format(f1/n))\n",
    "\n",
    "# Exibe um exemplo\n",
    "print(formating.bold + '\\nExemplo:' + formating.resetbold)\n",
    "gnbmodel = GaussianNB()\n",
    "f1 = model_pipeline(X, Yb, gnbmodel, True)"
   ]
  },
  {
   "cell_type": "markdown",
   "metadata": {},
   "source": [
    "#### Etapa 4g: Classificação via AdaBoost\n",
    "* Utiliza a classe __AdaBoostClassifier__ do _scikitlearn_ para classificação binária;\n",
    "* Mede acurácia e F0,5 para tal técnica."
   ]
  },
  {
   "cell_type": "code",
   "execution_count": 22,
   "metadata": {},
   "outputs": [
    {
     "name": "stdout",
     "output_type": "stream",
     "text": [
      "\u001b[1mModelo: AdaBoostClassifier\u001b[21m\n",
      "Acurácia média = 0.664\n",
      "F0,5 scr médio = 0.446\n",
      "\u001b[1m\n",
      "Exemplo:\u001b[21m\n",
      "Matriz de Confusão\n",
      " [46  7] \n",
      " [20  6] \n",
      "\n",
      "Acurácia  = 0.658\n",
      "Precisão  = 0.462\n",
      "Revocação = 0.231\n",
      "F0,5 scr  = 0.385\n"
     ]
    }
   ],
   "source": [
    "# Cálculo e exibição das métricas para o modelo de Regressão por AdaBoost\n",
    "ac = 0\n",
    "f1 = 0\n",
    "\n",
    "# Cálculo das métricas\n",
    "n = 1000\n",
    "start = time()\n",
    "for i in range(n): \n",
    "    abcmodel = AdaBoostClassifier()\n",
    "    res = model_pipeline(X, Yb, abcmodel)\n",
    "    ac += res[0]\n",
    "    f1 += res[1]\n",
    "dt = time() - start\n",
    "\n",
    "# Média das métricas, grava no Data Frame metrics\n",
    "metrics.loc[abcmodel.__class__.__name__] = [round(ac/n, 3), round(f1/n, 3), round(dt/n, 3)]\n",
    "\n",
    "# Imprime as médias\n",
    "print(formating.bold + 'Modelo: ' + abcmodel.__class__.__name__ + formating.resetbold)\n",
    "print('Acurácia média = {:.3f}'.format(ac/n))\n",
    "print('F0,5 scr médio = {:.3f}'.format(f1/n))\n",
    "\n",
    "# Exibe um exemplo\n",
    "print(formating.bold + '\\nExemplo:' + formating.resetbold)\n",
    "abcmodel = AdaBoostClassifier()\n",
    "f1 = model_pipeline(X, Yb, abcmodel, True)"
   ]
  },
  {
   "cell_type": "markdown",
   "metadata": {},
   "source": [
    "#### Etapa 4h: Classificação via Árvores de Decisão\n",
    "* Utiliza a classe __DecisionTreeClassifier__ do _scikitlearn_ para classificação binária;\n",
    "* Mede acurácia e F0,5 para tal técnica."
   ]
  },
  {
   "cell_type": "code",
   "execution_count": 23,
   "metadata": {},
   "outputs": [
    {
     "name": "stdout",
     "output_type": "stream",
     "text": [
      "\u001b[1mModelo: DecisionTreeClassifier\u001b[21m\n",
      "Acurácia média = 0.614\n",
      "F0,5 scr médio = 0.409\n",
      "\u001b[1m\n",
      "Exemplo:\u001b[21m\n",
      "Matriz de Confusão\n",
      " [40 15] \n",
      " [12 12] \n",
      "\n",
      "Acurácia  = 0.658\n",
      "Precisão  = 0.444\n",
      "Revocação = 0.500\n",
      "F0,5 scr  = 0.455\n"
     ]
    }
   ],
   "source": [
    "# Cálculo e exibição das métricas para o modelo Árvores de Decisão (DecisionTreeClassifier)\n",
    "ac = 0\n",
    "f1 = 0\n",
    "\n",
    "# Cálculo das métricas\n",
    "n = 1000\n",
    "start = time()\n",
    "for i in range(n): \n",
    "    dtcmodel = DecisionTreeClassifier(max_depth=None, min_samples_split=2, min_samples_leaf=3)\n",
    "    res = model_pipeline(X, Yb, dtcmodel)\n",
    "    ac += res[0]\n",
    "    f1 += res[1]\n",
    "dt = time() - start\n",
    "\n",
    "# Média das métricas, grava no Data Frame metrics\n",
    "metrics.loc[dtcmodel.__class__.__name__] = [round(ac/n, 3), round(f1/n, 3), round(dt/n, 3)]\n",
    "\n",
    "# Imprime as médias\n",
    "print(formating.bold + 'Modelo: ' + dtcmodel.__class__.__name__ + formating.resetbold)\n",
    "print('Acurácia média = {:.3f}'.format(ac/n))\n",
    "print('F0,5 scr médio = {:.3f}'.format(f1/n))\n",
    "\n",
    "# Exibe um exemplo\n",
    "print(formating.bold + '\\nExemplo:' + formating.resetbold)\n",
    "dtcmodel = DecisionTreeClassifier(max_depth=None, min_samples_split=2, min_samples_leaf=3)\n",
    "f1 = model_pipeline(X, Yb, dtcmodel, True)"
   ]
  },
  {
   "cell_type": "markdown",
   "metadata": {},
   "source": [
    "#### Resumo dos Resultados de acurácia e F0,5 para diferentes técnicas de classificação:\n",
    "Será usado o Data Frame __metrics__ para criar:\n",
    "* Tabela com acurácia, F0,5 e tempo de treino e previsão para cada técnica testada;\n",
    "* Respectivo Gráfico de barras."
   ]
  },
  {
   "cell_type": "code",
   "execution_count": 24,
   "metadata": {},
   "outputs": [
    {
     "name": "stdout",
     "output_type": "stream",
     "text": [
      "                          Acurácia   F0,5  Tempo\n",
      "Previsor_ingenuo_aprova      0.673  0.000  0.003\n",
      "Previsor_ingenuo_reprova     0.330  0.380  0.003\n",
      "LogisticRegression           0.684  0.460  0.005\n",
      "KNeighborsClassifier         0.599  0.325  0.007\n",
      "SVC                          0.680  0.471  0.540\n",
      "GaussianNB                   0.659  0.459  0.004\n",
      "AdaBoostClassifier           0.664  0.446  0.087\n",
      "DecisionTreeClassifier       0.614  0.409  0.005\n"
     ]
    },
    {
     "data": {
      "image/png": "[encoded data removed]",
      "text/plain": [
       "<Figure size 576x288 with 1 Axes>"
      ]
     },
     "metadata": {},
     "output_type": "display_data"
    }
   ],
   "source": [
    "# Impressão da tabela com os resultados:\n",
    "print(metrics)\n",
    "\n",
    "# Impressão do gráfico com os resultados:\n",
    "fig = metrics.plot.bar(figsize=(8,4), width=0.7, edgecolor='k')\n",
    "fig.grid(b=True, axis='y', color='k', linestyle='--', alpha=0.25)\n",
    "fig.set_ylim(0,0.6)\n",
    "fig.set_yticks(np.arange(0, 0.75, 0.05))\n",
    "plt.title('Comparação entre diversos métodos de classificação')\n",
    "plt.legend(loc='lower left', bbox_to_anchor=(1, .755), edgecolor='k')\n",
    "pass"
   ]
  },
  {
   "cell_type": "markdown",
   "metadata": {},
   "source": [
    "#### Conclusões sobre acurácia e F0,5 para diferentes modelos de classificação:\n",
    "* Em termos de acurácia, apenas a Regressão Logística e a Máquina de Suporte de Vetor conseguiram superar um modelo que simplesmente prevê que nenhum aluno precisa de reforço. Os modelos Naïve Bayes e AdaBoost obtiveram resultados quase tão bons quanto os dois primeiros. Na verdade, os quatro modelos foram os únicos com acurácia acima de 0,65, contra uma acurácia de 0,67 do previsor ingênuo de aprovação.\n",
    "* Os quatro modelos citados anateriormente também tiveram os maiores F0,5 Scores, obtendo pelo menos 0,445, contra um F0,5-Score de 0,38 do previsor ingênuo de reprovação. Deve-se lembrar que dar reforço a todos os alunos evita que alunos que seriam reprovados fiquem sem reforço, mas desperdiça muitos recursos com alunos que seriam aprovados sem reforço. Talvez por este motivo, praticamente qualquer modelo (exceto kNN) consegue superá-lo facilmente.\n",
    "* O tempo de execução da Máquina de Suporte de Vetor (SVC) é muito maior do que os demais, mas seu desempenho é bastante similar ao da Regressão Logística. Dessa forma, tal modelo não será usado.\n",
    "* __Conclusão:__ Entre os modelos testados, os mais promissores são: Regressão Logística, Naïve Bayes e AdaBoost."
   ]
  },
  {
   "cell_type": "markdown",
   "metadata": {},
   "source": [
    "****\n",
    "### Etapa 5: Seleção de atributos\n",
    "Nesta etapa, serão estudadas as importâncias de cada atributo para a previsão da necessidade de reforço. Em seguida, os modelos serão testados novamente apenas com atributos mais importantes e as novas métricas serão comparadas com as antigas. Etapas:\n",
    "* Treinar 250 modelos de cada técnica de classificação;\n",
    "    * __Regressão Logística:__ técnica com um dos melhores resultados obtidos na etapa anterior. Serão usados seus coeficientes para tentar determinar os atributos mais importantes;\n",
    "    * __AdaBoost:__ técnica com bons resultados obtidos na etapa anterior. Serão usadas suas importâncias dos atributos para tentar determinar os atributos mais importantes;\n",
    "    * __Árvores de Decisão:__ tal técnica obteve resultados relativamente fracos na etapa anterior. Entretanto, serão usadas suas importâncias dos atributos para tentar conseguir insights sobre os atributos mas importantes;\n",
    "    * __Naive Bayes:__ apesar de apresentar bons resultados na etapa anterior, o modelo não possui coeficientes ou importâncias dos atributos que ajudem a determinar os atributos mais importantes;\n",
    "* Tirar a média dos coeficientes ou das importâncias dos atributos de cada técnica;\n",
    "* Exibir tabela com os maiores coeficientes ou as maiores importâncias dos atributos de cada técnica;\n",
    "* Exibir gráfico dos coeficientes ou das importâncias dos atributos de cada técnica;\n",
    "* Escolher os atributos mais importantes."
   ]
  },
  {
   "cell_type": "code",
   "execution_count": 25,
   "metadata": {},
   "outputs": [
    {
     "name": "stdout",
     "output_type": "stream",
     "text": [
      "\u001b[1mModelo: LogisticRegression\u001b[21m\n",
      "failures         1.921767\n",
      "goout            1.412227\n",
      "age              0.968622\n",
      "higher          -0.735950\n",
      "schoolsup        0.729650\n",
      "famrel          -0.524367\n",
      "studytime       -0.508914\n",
      "famsup           0.507590\n",
      "Mjob_teacher     0.506225\n",
      "sex             -0.464628\n",
      "Mjob_health     -0.445216\n",
      "Fjob_teacher    -0.434227\n",
      "Mjob_services   -0.403221\n",
      "Name: coef, dtype: float64 \n",
      "\n"
     ]
    },
    {
     "data": {
      "image/png": "[encoded data removed]",
      "text/plain": [
       "<Figure size 720x288 with 1 Axes>"
      ]
     },
     "metadata": {},
     "output_type": "display_data"
    }
   ],
   "source": [
    "# Seleção de Atributos - Regressão Logística\n",
    "logcoefs = np.zeros(X.columns.shape[0])\n",
    "\n",
    "# Cálculo dos coeficientes\n",
    "n = 250\n",
    "for i in range(n): \n",
    "    logmodel = LogisticRegression()\n",
    "    X_train, X_test, y_train, y_test = train_test_split(X, Yb, test_size=0.2)\n",
    "    logmodel.fit(X_train, y_train)\n",
    "    logcoefs += np.array(logmodel.coef_[0])\n",
    "\n",
    "# Média dos coeficientes, grava em um Data Frame\n",
    "logcoefs /= n\n",
    "logmodel_coefs = pd.DataFrame(data={'coef': logcoefs, 'abscoef':abs(logcoefs)}, \n",
    "                              index=X.columns).sort_values(by='abscoef', ascending=False)\n",
    "\n",
    "# Imprime os maiores coeficientes\n",
    "print(formating.bold + 'Modelo: ' + logmodel.__class__.__name__ + formating.resetbold)\n",
    "print(logmodel_coefs[logmodel_coefs.abscoef > 0.4].coef, '\\n')\n",
    "\n",
    "# Gráfico de todos os coeficientes\n",
    "logmodel_coefs.drop(['coef'], 1).plot.bar(figsize=(10,4), legend=False, \n",
    "                                          width=0.975, edgecolor='k')\n",
    "plt.grid(b=True, axis='y', color='k', linestyle='--', alpha=0.25)\n",
    "plt.title('Coeficientes dos atributos para modelo ' + logmodel.__class__.__name__)\n",
    "pass"
   ]
  },
  {
   "cell_type": "code",
   "execution_count": 26,
   "metadata": {},
   "outputs": [
    {
     "name": "stdout",
     "output_type": "stream",
     "text": [
      "\u001b[1mModelo: AdaBoostClassifier\u001b[21m\n",
      "           feat_imp\n",
      "failures    0.09600\n",
      "age         0.07992\n",
      "freetime    0.07168\n",
      "goout       0.06496\n",
      "Dalc        0.04728\n",
      "studytime   0.04528\n",
      "Walc        0.04168\n",
      "Fedu        0.04104\n",
      "famrel      0.04096\n",
      "health      0.03864\n"
     ]
    },
    {
     "data": {
      "image/png": "[encoded data removed]",
      "text/plain": [
       "<Figure size 720x288 with 1 Axes>"
      ]
     },
     "metadata": {},
     "output_type": "display_data"
    }
   ],
   "source": [
    "# Seleção de Atributos - AdaBoostClassifier\n",
    "abccoefs = np.zeros(X.columns.shape[0])\n",
    "\n",
    "# Cálculo dos feature importances\n",
    "n = 250\n",
    "for i in range(n): \n",
    "    abcmodel = AdaBoostClassifier()\n",
    "    X_train, X_test, y_train, y_test = train_test_split(X, Yb, test_size=0.2)\n",
    "    abcmodel.fit(X_train, y_train)\n",
    "    abccoefs += np.array(abcmodel.feature_importances_)\n",
    "\n",
    "# Média dos feature importances, grava em um Data Frame\n",
    "abccoefs /= n\n",
    "abcmodel_coefs = pd.DataFrame(data=abccoefs, columns=['feat_imp'], \n",
    "                              index=X.columns).sort_values(by='feat_imp', ascending=False)\n",
    "\n",
    "# Imprime os maiores feature importances\n",
    "print(formating.bold + 'Modelo: ' + abcmodel.__class__.__name__ + formating.resetbold)\n",
    "print(abcmodel_coefs.iloc[:10].sort_values(by='feat_imp', ascending=False))\n",
    "\n",
    "# Gráfico de todos os feature importances\n",
    "abcmodel_coefs.plot.bar(figsize=(10,4), legend=False, width=0.975, edgecolor='k')\n",
    "plt.grid(b=True, axis='y', color='k', linestyle='--', alpha=0.25)\n",
    "plt.title('Importância dos atributos para modelo ' + abcmodel.__class__.__name__)\n",
    "pass"
   ]
  },
  {
   "cell_type": "code",
   "execution_count": 27,
   "metadata": {},
   "outputs": [
    {
     "name": "stdout",
     "output_type": "stream",
     "text": [
      "\u001b[1mModelo: DecisionTreeClassifier\u001b[21m\n",
      "           feat_imp\n",
      "failures   0.167143\n",
      "freetime   0.062720\n",
      "health     0.054655\n",
      "goout      0.053166\n",
      "Walc       0.047469\n",
      "studytime  0.047144\n",
      "Fedu       0.046010\n",
      "age        0.040355\n",
      "famrel     0.036876\n",
      "Medu       0.034896\n"
     ]
    },
    {
     "data": {
      "image/png": "[encoded data removed]",
      "text/plain": [
       "<Figure size 720x288 with 1 Axes>"
      ]
     },
     "metadata": {},
     "output_type": "display_data"
    }
   ],
   "source": [
    "# Seleção de Atributos - DecisionTreeClassifier\n",
    "dtccoefs = np.zeros(X.columns.shape[0])\n",
    "\n",
    "# Cálculo dos feature importances\n",
    "n = 250\n",
    "for i in range(n): \n",
    "    dtcmodel = DecisionTreeClassifier(max_depth=None, min_samples_split=2, min_samples_leaf=3)\n",
    "    X_train, X_test, y_train, y_test = train_test_split(X, Yb, test_size=0.2)\n",
    "    dtcmodel.fit(X_train, y_train)\n",
    "    dtccoefs += np.array(dtcmodel.feature_importances_)\n",
    "\n",
    "# Média dos feature importances, grava em um Data Frame\n",
    "dtccoefs /= n\n",
    "dtcmodel_coefs = pd.DataFrame(data=dtccoefs, columns=['feat_imp'], \n",
    "                              index=X.columns).sort_values(by='feat_imp', ascending=False)\n",
    "\n",
    "# Imprime os maiores feature importances\n",
    "print(formating.bold + 'Modelo: ' + dtcmodel.__class__.__name__ + formating.resetbold)\n",
    "print(dtcmodel_coefs.iloc[:10].sort_values(by='feat_imp', ascending=False))\n",
    "\n",
    "# Gráfico de todos os feature importances\n",
    "dtcmodel_coefs.plot.bar(figsize=(10,4), legend=False, width=0.975, edgecolor='k')\n",
    "plt.grid(b=True, axis='y', color='k', linestyle='--', alpha=0.25)\n",
    "plt.title('Importância dos atributos para modelo ' + dtcmodel.__class__.__name__)\n",
    "pass"
   ]
  },
  {
   "cell_type": "markdown",
   "metadata": {},
   "source": [
    "#### Conclusões\n",
    "* O atributo __schoolsup__ denota se o aluno já recebe algum suporte extra da escola e impacta positivamente sobre a necessidade de reforço. Em outra palavras, se o aluno recebe suporte extra, então é mais provável que ele acabe sendo reprovado. Isto pode significar que apenas alunos com dificuldades recebem tal suporte. Entretanto, as condições nas quais os alunos são selecionados para tal suporte não estão claras e podem ser subjetivas. Por este motivo, este atributo será __excluído__ dos modelos de previsão;\n",
    "* O atributo __sex__ tem o 10º maior coeficiente da Regressão Logística, mas tem importância bem menor nos demais modelos. Por este motivo, ele também será __excluído__ dos modelos de previsão;\n",
    "* Os 10 atributos com maiores coeficientes da Regressão Logística, exceto os dois anteriores (schoolsup e sex) serão mantidos: failures, goout, age, higher, studytime, famsup, Mjob_teacher, famrel;\n",
    "* Os atributos __freetime__ e __health__ estão entre os mais importantes dos modelos AdaBoost e DecisionTree e, portanto, serão mantidos;\n",
    "* O atributo __Dalc__ é o quinto mais importante do AbaBoost e também será __mantido__;\n",
    "* Todos os demais atributos serão excluídos."
   ]
  },
  {
   "cell_type": "markdown",
   "metadata": {},
   "source": [
    "****\n",
    "### Etapa 6: Comparação acurácia e F0,5 para atributos selecionados\n",
    "A Etapa 4 será repetida para as técnicas de classificação com melhores resultados, e apenas com os atributos selecionados na Etapa 5.\n",
    "* Criar variável __X2__ com os atributos selecionados;\n",
    "* Criar um Data Frame chamado __metrics2__ para armazenar as métricas (acurácia e F0,5-score) de cada técnica;\n",
    "* Aplicar diversos modelos e gravar seus resultados em __metrics2__:\n",
    "    * Calcula a média da acurácia e do F0,5-score para 1000 previsões de cada técnica;\n",
    "    * Grava e imprime as médias;\n",
    "    * Calcula um modelo usando __verbose__ para imprimir matriz de confusão, precisão e revocação, como exemplo.\n",
    "* Exibir os resultados em uma tabela e em um gráfico;\n",
    "* Analisar os resultados e tirar conclusões."
   ]
  },
  {
   "cell_type": "code",
   "execution_count": 28,
   "metadata": {},
   "outputs": [],
   "source": [
    "# Atributos selecionados\n",
    "X2 = X[['failures', 'goout', 'age', 'higher', 'studytime', 'famsup', 'Mjob_teacher', 'famrel', \n",
    "        'freetime', 'health','Dalc']]\n",
    "\n",
    "# Data Frame para armazenar as métricas\n",
    "metrics2 = pd.DataFrame(columns = ['Acurácia', 'F0,5-score'])"
   ]
  },
  {
   "cell_type": "markdown",
   "metadata": {},
   "source": [
    "#### Etapa 6a: Classificação via Regressão Logística\n",
    "* Utiliza a classe __LogisticRegression__ do _scikitlearn_ para classificação binária;\n",
    "* Mede acurácia e F0,5 para tal técnica."
   ]
  },
  {
   "cell_type": "code",
   "execution_count": 29,
   "metadata": {},
   "outputs": [
    {
     "name": "stdout",
     "output_type": "stream",
     "text": [
      "\u001b[1mModelo: LogisticRegression\u001b[21m\n",
      "Acurácia média = 0.733\n",
      "F0,5 scr médio = 0.560\n",
      "\u001b[1m\n",
      "Exemplo:\u001b[21m\n",
      "Matriz de Confusão\n",
      " [55  1] \n",
      " [15  8] \n",
      "\n",
      "Acurácia  = 0.797\n",
      "Precisão  = 0.889\n",
      "Revocação = 0.348\n",
      "F0,5 scr  = 0.678\n"
     ]
    }
   ],
   "source": [
    "# Cálculo e exibição das métricas para o modelo Regressão Logística\n",
    "ac = 0\n",
    "f1 = 0\n",
    "\n",
    "# Cálculo das métricas\n",
    "n = 1000\n",
    "for i in range(n): \n",
    "    logmodel2 = LogisticRegression()\n",
    "    res = model_pipeline(X2, Yb, logmodel2)\n",
    "    ac += res[0]\n",
    "    f1 += res[1]\n",
    "\n",
    "# Média das métricas, grava no Data Frame metrics2\n",
    "metrics2.loc[logmodel2.__class__.__name__] = [round(ac/n, 3), round(f1/n, 3)]\n",
    "\n",
    "# Imprime as médias\n",
    "print(formating.bold + 'Modelo: ' + logmodel2.__class__.__name__ + formating.resetbold)\n",
    "print('Acurácia média = {:.3f}'.format(ac/n))\n",
    "print('F0,5 scr médio = {:.3f}'.format(f1/n))\n",
    "\n",
    "# Exibe um exemplo\n",
    "print(formating.bold + '\\nExemplo:' + formating.resetbold)\n",
    "logmodel2 = LogisticRegression()\n",
    "f1 = model_pipeline(X2, Yb, logmodel2, True)"
   ]
  },
  {
   "cell_type": "markdown",
   "metadata": {},
   "source": [
    "#### Etapa 6b: Classificação via Naïve Bayes\n",
    "* Utiliza a classe __GaussianNB__ do _scikitlearn_ para classificação binária;\n",
    "* Mede acurácia e F0,5 para tal técnica."
   ]
  },
  {
   "cell_type": "code",
   "execution_count": 30,
   "metadata": {},
   "outputs": [
    {
     "name": "stdout",
     "output_type": "stream",
     "text": [
      "\u001b[1mModelo: GaussianNB\u001b[21m\n",
      "Acurácia média = 0.712\n",
      "F0,5 scr médio = 0.515\n",
      "\u001b[1m\n",
      "Exemplo:\u001b[21m\n",
      "Matriz de Confusão\n",
      " [45  3] \n",
      " [23  8] \n",
      "\n",
      "Acurácia  = 0.671\n",
      "Precisão  = 0.727\n",
      "Revocação = 0.258\n",
      "F0,5 scr  = 0.533\n"
     ]
    }
   ],
   "source": [
    "# Cálculo e exibição das métricas para o modelo GaussianNB\n",
    "ac = 0\n",
    "f1 = 0\n",
    "\n",
    "# Cálculo das métricas\n",
    "n = 1000\n",
    "for i in range(n): \n",
    "    gnbmodel2 = GaussianNB()\n",
    "    res = model_pipeline(X2, Yb, gnbmodel2)\n",
    "    ac += res[0]\n",
    "    f1 += res[1]\n",
    "\n",
    "# Média das métricas, grava no Data Frame metrics2\n",
    "metrics2.loc[gnbmodel2.__class__.__name__] = [round(ac/n, 3), round(f1/n, 3)]\n",
    "\n",
    "# Imprime as médias\n",
    "print(formating.bold + 'Modelo: ' + gnbmodel2.__class__.__name__ + formating.resetbold)\n",
    "print('Acurácia média = {:.3f}'.format(ac/n))\n",
    "print('F0,5 scr médio = {:.3f}'.format(f1/n))\n",
    "\n",
    "# Exibe um exemplo\n",
    "print(formating.bold + '\\nExemplo:' + formating.resetbold)\n",
    "gnbmodel2 = GaussianNB()\n",
    "f1 = model_pipeline(X2, Yb, gnbmodel2, True)"
   ]
  },
  {
   "cell_type": "markdown",
   "metadata": {},
   "source": [
    "#### Etapa 6c: Classificação via AdaBoost\n",
    "* Utiliza a classe __AdaBoostClassifier__ do _scikitlearn_ para classificação binária;\n",
    "* Mede acurácia e F0,5 para tal técnica."
   ]
  },
  {
   "cell_type": "code",
   "execution_count": 31,
   "metadata": {},
   "outputs": [
    {
     "name": "stdout",
     "output_type": "stream",
     "text": [
      "\u001b[1mModelo: AdaBoostClassifier\u001b[21m\n",
      "Acurácia média = 0.677\n",
      "F0,5 scr médio = 0.464\n",
      "\u001b[1m\n",
      "Exemplo:\u001b[21m\n",
      "Matriz de Confusão\n",
      " [40 10] \n",
      " [17 12] \n",
      "\n",
      "Acurácia  = 0.658\n",
      "Precisão  = 0.545\n",
      "Revocação = 0.414\n",
      "F0,5 scr  = 0.513\n"
     ]
    }
   ],
   "source": [
    "# Cálculo e exibição das métricas para o modelo AdaBoostClassifier\n",
    "ac = 0\n",
    "f1 = 0\n",
    "\n",
    "# Cálculo das métricas\n",
    "n = 1000\n",
    "for i in range(n): \n",
    "    abcmodel2 = AdaBoostClassifier()\n",
    "    res = model_pipeline(X2, Yb, abcmodel2)\n",
    "    ac += res[0]\n",
    "    f1 += res[1]\n",
    "\n",
    "# Média das métricas, grava no Data Frame metrics2\n",
    "metrics2.loc[abcmodel2.__class__.__name__] = [round(ac/n, 3), round(f1/n, 3)]\n",
    "\n",
    "# Imprime as médias\n",
    "print(formating.bold + 'Modelo: ' + abcmodel2.__class__.__name__ + formating.resetbold)\n",
    "print('Acurácia média = {:.3f}'.format(ac/n))\n",
    "print('F0,5 scr médio = {:.3f}'.format(f1/n))\n",
    "\n",
    "# Exibe um exemplo\n",
    "print(formating.bold + '\\nExemplo:' + formating.resetbold)\n",
    "abcmodel2 = AdaBoostClassifier()\n",
    "f1 = model_pipeline(X2, Yb, abcmodel2, True)"
   ]
  },
  {
   "cell_type": "markdown",
   "metadata": {},
   "source": [
    "#### Resumo dos Resultados de acurácia e F0,5 para diferentes técnicas de classificação:\n",
    "Será usado o Data Frame __metrics2__ para criar:\n",
    "* Tabela com acurácia e F0,5-score para cada técnica testada;\n",
    "* Respectivo Gráfico de barras."
   ]
  },
  {
   "cell_type": "code",
   "execution_count": 32,
   "metadata": {},
   "outputs": [
    {
     "name": "stdout",
     "output_type": "stream",
     "text": [
      "                    Acurácia  F0,5-score\n",
      "LogisticRegression     0.733       0.560\n",
      "GaussianNB             0.712       0.515\n",
      "AdaBoostClassifier     0.677       0.464\n"
     ]
    },
    {
     "data": {
      "image/png": "[encoded data removed]",
      "text/plain": [
       "<Figure size 288x288 with 1 Axes>"
      ]
     },
     "metadata": {},
     "output_type": "display_data"
    }
   ],
   "source": [
    "# Impressão da tabela com os resultados:\n",
    "print(metrics2)\n",
    "\n",
    "# Impressão do gráfico com os resultados:\n",
    "fig = metrics2.plot.bar(grid=False, figsize=(4,4), width=0.7, edgecolor='k')\n",
    "fig.grid(b=True, axis='y', color='k', linestyle='--', alpha=0.25)\n",
    "fig.set_ylim(0,0.7)\n",
    "fig.set_yticks(np.arange(0, 0.8, 0.05))\n",
    "plt.title('Comparação entre melhores métodos de \\n classificação e com atributos selecionados')\n",
    "plt.legend(loc='lower left', bbox_to_anchor=(1, .825), edgecolor='k')\n",
    "pass"
   ]
  },
  {
   "cell_type": "markdown",
   "metadata": {},
   "source": [
    "#### Conclusões\n",
    "* Ao se selecionar apenas os atributos mais importantes ('failures', 'goout', 'age', 'higher', 'studytime', 'famsup', 'Mjob_teacher', 'famrel', 'freetime', 'health' e 'Dalc'), os três melhores modelos de classificação determinados na etapa 4 (LogisticRegression, GaussianNB e AdaBoostClassifier) melhoraram significativamente seu desempenho. \n",
    "* A __Regressão Logística__ continua sendo a melhor técnica de modelagem, tendo sua acurácia elevada de 0,68 para 0,73 e seu F0,5-score aumentado de 0,46 para aproximadamente 0,56. Seu desempenho nestas condições é o melhor obtido neste trabalho."
   ]
  },
  {
   "cell_type": "markdown",
   "metadata": {},
   "source": [
    "****\n",
    "### Etapa 7: Conclusões\n",
    "* O melhor modelo para previsão é a Regressão Logística, com F0,5-Score de aproximadamente 0,56;\n",
    "* O melhor conjunto de atributos é o que se segue:"
   ]
  },
  {
   "cell_type": "code",
   "execution_count": 33,
   "metadata": {},
   "outputs": [
    {
     "name": "stdout",
     "output_type": "stream",
     "text": [
      "01) failures             02) goout                03) age                  04) higher               \n",
      "05) studytime            06) famsup               07) Mjob_teacher         08) famrel               \n",
      "09) freetime             10) health               11) Dalc                 "
     ]
    }
   ],
   "source": [
    "# Lista com todos os atributos de X2 - atributos selecionados para ser usados no modelo\n",
    "for i, x in enumerate(X2.columns):\n",
    "    print('{:02d}) {:21s}'.format(i+1, x), end='')\n",
    "    if (i-3)%4 == 0: print('')"
   ]
  },
  {
   "cell_type": "markdown",
   "metadata": {},
   "source": [
    "### Treinamento do modelo final proposto para resolver o problema:"
   ]
  },
  {
   "cell_type": "code",
   "execution_count": 34,
   "metadata": {},
   "outputs": [
    {
     "name": "stdout",
     "output_type": "stream",
     "text": [
      "\u001b[1mModelo Final: LogisticRegression\u001b[21m\n",
      "Métricas para o subconjunto de testes:\n",
      "\n",
      "Matriz de Confusão\n",
      " [47  4] \n",
      " [19  9] \n",
      "\n",
      "Acurácia  = 0.709\n",
      "Precisão  = 0.692\n",
      "Revocação = 0.321\n",
      "F0,5 scr  = 0.562\n"
     ]
    }
   ],
   "source": [
    "# Validação cruzada\n",
    "X_train, X_test, y_train, y_test = train_test_split(X2, Yb, test_size=0.2, random_state=45)\n",
    "\n",
    "# Treino\n",
    "finalmodel = LogisticRegression()\n",
    "finalmodel.fit(X_train, y_train)\n",
    "\n",
    "# Previsões para subconjunto de testes\n",
    "y_pred = finalmodel.predict(X_test)\n",
    "\n",
    "# Imprime métricas do subconjunto de testes\n",
    "print(formating.bold + 'Modelo Final: ' + finalmodel.__class__.__name__ + formating.resetbold)\n",
    "print('Métricas para o subconjunto de testes:\\n')\n",
    "metricas_binario(y_test, y_pred, True)\n",
    "pass"
   ]
  },
  {
   "cell_type": "markdown",
   "metadata": {},
   "source": [
    "### Avaliação do Modelo sobre o dataset completo\n",
    "Caso o modelo final proposto fosse aplicado sobre todo o _dataset_, os resultados obtidos seriam:"
   ]
  },
  {
   "cell_type": "code",
   "execution_count": 35,
   "metadata": {},
   "outputs": [
    {
     "name": "stdout",
     "output_type": "stream",
     "text": [
      "\u001b[1mModelo Final: LogisticRegression\u001b[21m\n",
      "Métricas para o dataset completo:\n",
      "\n",
      "Matriz de Confusão\n",
      " [251  14] \n",
      " [89 41] \n",
      "\n",
      "Acurácia  = 0.739\n",
      "Precisão  = 0.745\n",
      "Revocação = 0.315\n",
      "F0,5 scr  = 0.586\n"
     ]
    },
    {
     "data": {
      "image/png": "[encoded data removed]",
      "text/plain": [
       "<Figure size 576x288 with 1 Axes>"
      ]
     },
     "metadata": {},
     "output_type": "display_data"
    }
   ],
   "source": [
    "# Previsões para dataset completo\n",
    "y_pred = finalmodel.predict(X2)\n",
    "\n",
    "# Imprime métricas do dataset completo\n",
    "print(formating.bold + 'Modelo Final: ' + finalmodel.__class__.__name__ + formating.resetbold)\n",
    "print('Métricas para o dataset completo:\\n')\n",
    "metricas_binario(Yb, y_pred, True)\n",
    "\n",
    "# Gráfico com histogramas das notas\n",
    "plt.figure()\n",
    "Y.G3[y_pred == 0].plot.hist(bins=range(22), edgecolor='k', figsize=(8,4), label='0: sem reforço')\n",
    "Y.G3[y_pred == 1].plot.hist(bins=range(20), edgecolor='k', figsize=(8,4), label='1: com reforço')\n",
    "plt.legend(edgecolor='k')\n",
    "plt.grid(b=True, axis='y', color='k', linestyle='--', alpha=0.25)\n",
    "plt.xlabel('Notas')\n",
    "plt.ylabel('Frequências')\n",
    "plt.title('Histograma do desempenho (nota) dos alunos agrupados por categoria da previsão')\n",
    "plt.xticks(np.arange(0.5, 21.5, 1), range(21))\n",
    "plt.yticks(range(0,60,5))\n",
    "pass"
   ]
  },
  {
   "cell_type": "markdown",
   "metadata": {},
   "source": [
    "__Observações Finais:__ \n",
    "1. Pode-se observar que boa parte dos alunos com nota abaixo de 10 foram identificados corretamente pelo modelo, enquanto que uma quantidade muito baixa de alunos com notas a partir de 10 foram classificados incorretamente.\n",
    "2. Além disso, é notável como o modelo evita classificar os alunos como elegíveis para algum programa de reforço para tentar manter a precisão elevada e, consequentemente, o $F_{\\beta = 0,5}-score$. Como alta precisão significa baixa quantidade Falsos Positivos, pode-se concluir que o modelo mais eficiente em termos de custos é aquele que prevê poucas necessidades de reforço."
   ]
  }
 ],
 "metadata": {
  "kernelspec": {
   "display_name": "Python 3",
   "language": "python",
   "name": "python3"
  },
  "language_info": {
   "codemirror_mode": {
    "name": "ipython",
    "version": 3
   },
   "file_extension": ".py",
   "mimetype": "text/x-python",
   "name": "python",
   "nbconvert_exporter": "python",
   "pygments_lexer": "ipython3",
   "version": "3.6.5"
  }
 },
 "nbformat": 4,
 "nbformat_minor": 2
}
